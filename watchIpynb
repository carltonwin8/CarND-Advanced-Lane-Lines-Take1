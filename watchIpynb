while inotifywait -e close_write advancedLaneFinding.ipynb; do jupyter nbconvert advancedLaneFinding.ipynb; done
